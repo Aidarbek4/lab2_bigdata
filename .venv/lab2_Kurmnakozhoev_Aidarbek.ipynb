{
 "cells": [
  {
   "metadata": {},
   "cell_type": "markdown",
   "source": "# Использование команд билиотеки NumPy",
   "id": "b5ad00ab4eedf7e3"
  },
  {
   "metadata": {},
   "cell_type": "markdown",
   "source": "#### 1.1.\tСоздайте одномерный массив my_array, в котором по порядку все числа до 100, кратные 5",
   "id": "c861c71d6ac951a4"
  },
  {
   "metadata": {
    "ExecuteTime": {
     "end_time": "2024-09-26T10:14:44.261204Z",
     "start_time": "2024-09-26T10:14:44.243581Z"
    }
   },
   "cell_type": "code",
   "source": [
    "import numpy as np\n",
    "\n",
    "my_array = np.arange(5, 101, 5)\n",
    "my_array"
   ],
   "id": "3b63a83780d0e54a",
   "outputs": [
    {
     "data": {
      "text/plain": [
       "array([  5,  10,  15,  20,  25,  30,  35,  40,  45,  50,  55,  60,  65,\n",
       "        70,  75,  80,  85,  90,  95, 100])"
      ]
     },
     "execution_count": 18,
     "metadata": {},
     "output_type": "execute_result"
    }
   ],
   "execution_count": 18
  },
  {
   "metadata": {},
   "cell_type": "markdown",
   "source": "#### 2.1.\tИз полученного массива получить массив с кратными 10 числами",
   "id": "e70685c2a7d598d9"
  },
  {
   "metadata": {
    "ExecuteTime": {
     "end_time": "2024-09-26T10:14:46.167572Z",
     "start_time": "2024-09-26T10:14:46.147458Z"
    }
   },
   "cell_type": "code",
   "source": [
    "divisible_to_10 = my_array[my_array % 10 == 0]\n",
    "divisible_to_10"
   ],
   "id": "e3f67c430ed5ed2e",
   "outputs": [
    {
     "data": {
      "text/plain": [
       "array([ 10,  20,  30,  40,  50,  60,  70,  80,  90, 100])"
      ]
     },
     "execution_count": 19,
     "metadata": {},
     "output_type": "execute_result"
    }
   ],
   "execution_count": 19
  },
  {
   "metadata": {},
   "cell_type": "markdown",
   "source": "#### 3.1.\tПолучить двумерный массив с двумя столбцами",
   "id": "ffa5c3ad0001fc45"
  },
  {
   "metadata": {
    "ExecuteTime": {
     "end_time": "2024-09-26T10:20:14.755173Z",
     "start_time": "2024-09-26T10:20:14.740769Z"
    }
   },
   "cell_type": "code",
   "source": [
    "two_column_array = divisible_to_10.reshape(-1, 2)\n",
    "two_column_array"
   ],
   "id": "bbceec6aa1989d8d",
   "outputs": [
    {
     "data": {
      "text/plain": [
       "array([[ 10,  20],\n",
       "       [ 30,  40],\n",
       "       [ 50,  60],\n",
       "       [ 70,  80],\n",
       "       [ 90, 100]])"
      ]
     },
     "execution_count": 26,
     "metadata": {},
     "output_type": "execute_result"
    }
   ],
   "execution_count": 26
  },
  {
   "metadata": {},
   "cell_type": "markdown",
   "source": "#### 4.1.\tПолучите набор my_second_array, в котором все элементы меньше предыдущего исходного на 5",
   "id": "18944d34d93977a1"
  },
  {
   "metadata": {
    "ExecuteTime": {
     "end_time": "2024-09-26T10:22:15.293776Z",
     "start_time": "2024-09-26T10:22:15.281239Z"
    }
   },
   "cell_type": "code",
   "source": [
    "my_second_array = two_column_array - 5\n",
    "my_second_array"
   ],
   "id": "41ebcaa4006659c3",
   "outputs": [
    {
     "data": {
      "text/plain": [
       "array([[ 5, 15],\n",
       "       [25, 35],\n",
       "       [45, 55],\n",
       "       [65, 75],\n",
       "       [85, 95]])"
      ]
     },
     "execution_count": 29,
     "metadata": {},
     "output_type": "execute_result"
    }
   ],
   "execution_count": 29
  },
  {
   "metadata": {},
   "cell_type": "markdown",
   "source": "#### 5.1.\tСоедините массивы, полученные в п. 3.1 и 4.1, горизонтально. Используйте .T для транспонирования матрицы.",
   "id": "4649c6e8a2696f61"
  },
  {
   "metadata": {
    "ExecuteTime": {
     "end_time": "2024-09-26T10:39:05.913448Z",
     "start_time": "2024-09-26T10:39:05.893188Z"
    }
   },
   "cell_type": "code",
   "source": [
    "combined_array = np.hstack([two_column_array.T, my_second_array.T])\n",
    "combined_array"
   ],
   "id": "578723dd09a534a2",
   "outputs": [
    {
     "data": {
      "text/plain": [
       "array([[ 10,  30,  50,  70,  90,   5,  25,  45,  65,  85],\n",
       "       [ 20,  40,  60,  80, 100,  15,  35,  55,  75,  95]])"
      ]
     },
     "execution_count": 37,
     "metadata": {},
     "output_type": "execute_result"
    }
   ],
   "execution_count": 37
  },
  {
   "metadata": {},
   "cell_type": "markdown",
   "source": "#### 6.1.\tРазделите 2 и 3 строку на 4 верхних строки my_array. Используйте .T для транспонирования матрицы",
   "id": "72394c54cb68b2ed"
  },
  {
   "metadata": {
    "ExecuteTime": {
     "end_time": "2024-09-26T10:39:08.458741Z",
     "start_time": "2024-09-26T10:39:08.442687Z"
    }
   },
   "cell_type": "code",
   "source": [
    "division_result = (combined_array[1:3] / my_array[:4].reshape(-1, 1)).T\n",
    "division_result"
   ],
   "id": "8ed53f9577dd669e",
   "outputs": [
    {
     "data": {
      "text/plain": [
       "array([[ 4.        ,  2.        ,  1.33333333,  1.        ],\n",
       "       [ 8.        ,  4.        ,  2.66666667,  2.        ],\n",
       "       [12.        ,  6.        ,  4.        ,  3.        ],\n",
       "       [16.        ,  8.        ,  5.33333333,  4.        ],\n",
       "       [20.        , 10.        ,  6.66666667,  5.        ],\n",
       "       [ 3.        ,  1.5       ,  1.        ,  0.75      ],\n",
       "       [ 7.        ,  3.5       ,  2.33333333,  1.75      ],\n",
       "       [11.        ,  5.5       ,  3.66666667,  2.75      ],\n",
       "       [15.        ,  7.5       ,  5.        ,  3.75      ],\n",
       "       [19.        ,  9.5       ,  6.33333333,  4.75      ]])"
      ]
     },
     "execution_count": 38,
     "metadata": {},
     "output_type": "execute_result"
    }
   ],
   "execution_count": 38
  },
  {
   "metadata": {},
   "cell_type": "markdown",
   "source": "#### 7.1.\tОставить только те значения, которые не изменились после деления",
   "id": "2b2723eb4d21190"
  },
  {
   "metadata": {
    "ExecuteTime": {
     "end_time": "2024-09-26T10:50:13.561557Z",
     "start_time": "2024-09-26T10:50:13.548392Z"
    }
   },
   "cell_type": "code",
   "source": [
    "unchanged_values = division_result[division_result == np.floor(division_result)]\n",
    "unchanged_values"
   ],
   "id": "478cfd001e57c9e4",
   "outputs": [
    {
     "data": {
      "text/plain": [
       "array([ 4.,  2.,  1.,  8.,  4.,  2., 12.,  6.,  4.,  3., 16.,  8.,  4.,\n",
       "       20., 10.,  5.,  3.,  1.,  7., 11., 15.,  5., 19.])"
      ]
     },
     "execution_count": 43,
     "metadata": {},
     "output_type": "execute_result"
    }
   ],
   "execution_count": 43
  },
  {
   "metadata": {},
   "cell_type": "markdown",
   "source": "#### 8.1.\tСнова получить трехстрочный двумерный массив и поменять местами первую и третью строки",
   "id": "7121efff75743089"
  },
  {
   "metadata": {
    "ExecuteTime": {
     "end_time": "2024-09-26T10:55:30.599112Z",
     "start_time": "2024-09-26T10:55:30.591662Z"
    }
   },
   "cell_type": "code",
   "source": [
    "modified_array = np.copy(division_result)\n",
    "modified_array[[0,2]] = modified_array[[2,0]]\n",
    "modified_array"
   ],
   "id": "a6655e336982f567",
   "outputs": [
    {
     "data": {
      "text/plain": [
       "array([[12.        ,  6.        ,  4.        ,  3.        ],\n",
       "       [ 8.        ,  4.        ,  2.66666667,  2.        ],\n",
       "       [ 4.        ,  2.        ,  1.33333333,  1.        ],\n",
       "       [16.        ,  8.        ,  5.33333333,  4.        ],\n",
       "       [20.        , 10.        ,  6.66666667,  5.        ],\n",
       "       [ 3.        ,  1.5       ,  1.        ,  0.75      ],\n",
       "       [ 7.        ,  3.5       ,  2.33333333,  1.75      ],\n",
       "       [11.        ,  5.5       ,  3.66666667,  2.75      ],\n",
       "       [15.        ,  7.5       ,  5.        ,  3.75      ],\n",
       "       [19.        ,  9.5       ,  6.33333333,  4.75      ]])"
      ]
     },
     "execution_count": 48,
     "metadata": {},
     "output_type": "execute_result"
    }
   ],
   "execution_count": 48
  },
  {
   "metadata": {},
   "cell_type": "markdown",
   "source": "#### 9.1.\tПолучить среднее, медиану и стандартное отклонение для каждой строки, используя команды np.mean(), np.median(), np.std().",
   "id": "a4528e2ee1b96608"
  },
  {
   "metadata": {
    "ExecuteTime": {
     "end_time": "2024-09-26T10:57:14.369619Z",
     "start_time": "2024-09-26T10:57:14.360332Z"
    }
   },
   "cell_type": "code",
   "source": [
    "means = np.mean(modified_array, axis=1)\n",
    "print(means)\n",
    "medians = np.median(modified_array, axis=1)\n",
    "print(medians)\n",
    "std_devs = np.std(modified_array, axis=1)\n",
    "print(std_devs)"
   ],
   "id": "d546899535a776e3",
   "outputs": [
    {
     "name": "stdout",
     "output_type": "stream",
     "text": [
      "[ 6.25        4.16666667  2.08333333  8.33333333 10.41666667  1.5625\n",
      "  3.64583333  5.72916667  7.8125      9.89583333]\n",
      "[5.         3.33333333 1.66666667 6.66666667 8.33333333 1.25\n",
      " 2.91666667 4.58333333 6.25       7.91666667]\n",
      "[3.49106001 2.32737334 1.16368667 4.65474668 5.81843335 0.872765\n",
      " 2.03645167 3.20013834 4.36382501 5.52751168]\n"
     ]
    }
   ],
   "execution_count": 61
  },
  {
   "metadata": {},
   "cell_type": "markdown",
   "source": "#### 10.1.\tСделать нормализацию на максимальное значение вдоль строк, поделив каждый элемент массива на max() вдоль строк.",
   "id": "516eeb28b9907fe"
  },
  {
   "metadata": {
    "ExecuteTime": {
     "end_time": "2024-09-26T11:02:47.382856Z",
     "start_time": "2024-09-26T11:02:47.373667Z"
    }
   },
   "cell_type": "code",
   "source": [
    "normalized_array = modified_array / np.max(modified_array, axis=1, keepdims=True)\n",
    "normalized_array"
   ],
   "id": "dfa84a0a2f92fc39",
   "outputs": [
    {
     "data": {
      "text/plain": [
       "array([[1.        , 0.5       , 0.33333333, 0.25      ],\n",
       "       [1.        , 0.5       , 0.33333333, 0.25      ],\n",
       "       [1.        , 0.5       , 0.33333333, 0.25      ],\n",
       "       [1.        , 0.5       , 0.33333333, 0.25      ],\n",
       "       [1.        , 0.5       , 0.33333333, 0.25      ],\n",
       "       [1.        , 0.5       , 0.33333333, 0.25      ],\n",
       "       [1.        , 0.5       , 0.33333333, 0.25      ],\n",
       "       [1.        , 0.5       , 0.33333333, 0.25      ],\n",
       "       [1.        , 0.5       , 0.33333333, 0.25      ],\n",
       "       [1.        , 0.5       , 0.33333333, 0.25      ]])"
      ]
     },
     "execution_count": 63,
     "metadata": {},
     "output_type": "execute_result"
    }
   ],
   "execution_count": 63
  },
  {
   "metadata": {},
   "cell_type": "markdown",
   "source": "",
   "id": "8b3fdccd63a96ec6"
  },
  {
   "metadata": {},
   "cell_type": "markdown",
   "source": "",
   "id": "8c39e36a0dc7e37a"
  },
  {
   "metadata": {},
   "cell_type": "markdown",
   "source": "# Использование команд библиотеки pandas",
   "id": "eaed693340e32837"
  },
  {
   "metadata": {
    "ExecuteTime": {
     "end_time": "2024-09-26T12:02:06.826047Z",
     "start_time": "2024-09-26T12:02:06.592732Z"
    }
   },
   "cell_type": "code",
   "source": [
    "import pandas as pd\n",
    "\n",
    "# 2.1 Импорт данных из CSV файла\n",
    "df = pd.read_csv(r\"Global Population Trends(2016-2022).csv\")\n",
    "\n",
    "# 2.2 Вывод первых нескольких записей таблицы\n",
    "print(\"Первые несколько записей:\")\n",
    "print(df.head())\n",
    "\n",
    "# 2.3 Определение размерности фрейма\n",
    "print(\"Размерность фрейма:\", df.shape)\n",
    "\n",
    "# 2.4 Вывод названий столбцов\n",
    "print(\"Названия заголовков столбцов:\", df.columns)\n",
    "\n",
    "# 2.5 Вывод информации о данных\n",
    "print(\"Описание данных:\")\n",
    "print(df.info())\n",
    "\n",
    "# 2.6 Удаление строк, где в столбце «Total Population» содержится символ \"-\"\n",
    "df1 = df[df['Total Population'] != '-']\n",
    "\n",
    "# Удаление запятых и преобразование столбца «Total Population» в числовой формат\n",
    "df1.loc[:, 'Total Population'] = df1['Total Population'].str.replace(',', '').astype(float)\n",
    "\n",
    "# 2.7 Описательная статистика по переменным\n",
    "print(\"Описательная статистика:\")\n",
    "print(df1.describe())\n",
    "\n",
    "# 2.8 Сортировка данных по «Total Population» и «Country»\n",
    "df1_sorted = df1.sort_values(by=['Total Population', 'Country'], ascending=[False, True])\n",
    "print(\"Отсортированные данные:\")\n",
    "print(df1_sorted.head())\n",
    "\n",
    "# 2.9 Определение страны с максимальной численностью населения\n",
    "max_population_country = df1.loc[df1['Total Population'].idxmax(), 'Country']\n",
    "print(\"Страна с максимальной численностью населения:\", max_population_country)\n",
    "\n",
    "# 2.10 Определение страны с минимальной численностью населения\n",
    "min_population_country = df1.loc[df1['Total Population'].idxmin(), 'Country']\n",
    "print(\"Страна с минимальной численностью населения:\", min_population_country)\n",
    "\n",
    "# Убедитесь, что модуль openpyxl установлен для экспорта в Excel\n",
    "# Если не установлен, выполните: pip install openpyxl\n",
    "\n",
    "# 2.11 Экспорт данных в Excel файл\n",
    "df1.to_excel(\"Global_Population_Trends_Exported.xlsx\", index=False, engine='openpyxl')"
   ],
   "id": "4405c607d09c831b",
   "outputs": [
    {
     "name": "stdout",
     "output_type": "stream",
     "text": [
      "Первые несколько записей:\n",
      "       Country  Year Total Population Urban Population Rural Population  \\\n",
      "0  Afghanistan  2017                -                -                -   \n",
      "1  Afghanistan  2018       36,686,784        9,353,296       27,333,488   \n",
      "2  Afghanistan  2019       37,769,499        9,727,157       28,042,342   \n",
      "3  Afghanistan  2020       38,972,230       10,142,913       28,829,317   \n",
      "4  Afghanistan  2021       40,099,462       10,551,772       29,547,690   \n",
      "\n",
      "  Population Density Life Expectancy  Birth Rate  Death Rate Fertility Rate  \\\n",
      "0                 55            63.0      37.342       7.027          5.129   \n",
      "1                 56            63.0      36.927       6.981          5.002   \n",
      "2                 58            64.0      36.466       6.791           4.87   \n",
      "3                 60            63.0      36.051       7.113           4.75   \n",
      "4                  -            62.0      35.842       7.344          4.643   \n",
      "\n",
      "  Infant Mortality Rate Growth Rate  \n",
      "0                  49.4           -  \n",
      "1                  47.8         3.0  \n",
      "2                  46.3         3.0  \n",
      "3                  44.8         3.0  \n",
      "4                  43.4         3.0  \n",
      "Размерность фрейма: (1073, 12)\n",
      "Названия заголовков столбцов: Index(['Country', 'Year', 'Total Population', 'Urban Population',\n",
      "       'Rural Population', 'Population Density', 'Life Expectancy',\n",
      "       'Birth Rate', 'Death Rate', 'Fertility Rate', 'Infant Mortality Rate',\n",
      "       'Growth Rate'],\n",
      "      dtype='object')\n",
      "Описание данных:\n",
      "<class 'pandas.core.frame.DataFrame'>\n",
      "RangeIndex: 1073 entries, 0 to 1072\n",
      "Data columns (total 12 columns):\n",
      " #   Column                 Non-Null Count  Dtype  \n",
      "---  ------                 --------------  -----  \n",
      " 0   Country                1073 non-null   object \n",
      " 1   Year                   1073 non-null   int64  \n",
      " 2   Total Population       1073 non-null   object \n",
      " 3   Urban Population       1073 non-null   object \n",
      " 4   Rural Population       1073 non-null   object \n",
      " 5   Population Density     1073 non-null   object \n",
      " 6   Life Expectancy        1073 non-null   object \n",
      " 7   Birth Rate             1073 non-null   float64\n",
      " 8   Death Rate             1073 non-null   float64\n",
      " 9   Fertility Rate         1073 non-null   object \n",
      " 10  Infant Mortality Rate  1073 non-null   object \n",
      " 11  Growth Rate            1073 non-null   object \n",
      "dtypes: float64(2), int64(1), object(9)\n",
      "memory usage: 100.7+ KB\n",
      "None\n",
      "Описательная статистика:\n",
      "              Year  Birth Rate  Death Rate\n",
      "count   864.000000  864.000000  864.000000\n",
      "mean   2019.500000   18.548384    7.889123\n",
      "std       1.118682    9.887518    3.041385\n",
      "min    2018.000000    0.000000    0.000000\n",
      "25%    2018.750000   10.500000    6.116500\n",
      "50%    2019.500000   15.628500    7.453500\n",
      "75%    2020.250000   25.565000    9.385000\n",
      "max    2021.000000   46.127000   21.700000\n",
      "Отсортированные данные:\n",
      "    Country  Year Total Population Urban Population Rural Population  \\\n",
      "205   China  2021     1412360000.0      882,894,483      529,465,517   \n",
      "204   China  2020     1411100000.0      866,810,508      544,289,492   \n",
      "203   China  2019     1407745000.0      848,982,855      558,762,145   \n",
      "435   India  2021     1407563842.0      498,179,071      909,384,771   \n",
      "202   China  2018     1402760000.0      829,760,595      572,999,405   \n",
      "\n",
      "    Population Density Life Expectancy  Birth Rate  Death Rate Fertility Rate  \\\n",
      "205                  -            78.0       7.520       7.180          1.164   \n",
      "204                150            78.0       8.520       7.070          1.281   \n",
      "203                149            78.0      10.410       7.090          1.496   \n",
      "435                  -            67.0      16.419       9.448          2.031   \n",
      "202                149            78.0      10.860       7.080          1.554   \n",
      "\n",
      "    Infant Mortality Rate Growth Rate  \n",
      "205                   5.1         0.0  \n",
      "204                   5.5         0.0  \n",
      "203                   5.9         0.0  \n",
      "435                  25.5         1.0  \n",
      "202                   6.4         0.0  \n",
      "Страна с максимальной численностью населения: China\n",
      "Страна с минимальной численностью населения: Tuvalu\n"
     ]
    }
   ],
   "execution_count": 187
  }
 ],
 "metadata": {
  "kernelspec": {
   "display_name": "Python 3",
   "language": "python",
   "name": "python3"
  },
  "language_info": {
   "codemirror_mode": {
    "name": "ipython",
    "version": 2
   },
   "file_extension": ".py",
   "mimetype": "text/x-python",
   "name": "python",
   "nbconvert_exporter": "python",
   "pygments_lexer": "ipython2",
   "version": "2.7.6"
  }
 },
 "nbformat": 4,
 "nbformat_minor": 5
}
